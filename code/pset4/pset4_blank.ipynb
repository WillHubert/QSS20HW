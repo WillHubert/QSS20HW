{
 "cells": [
  {
   "cell_type": "markdown",
   "metadata": {},
   "source": [
    "# Problem set 4: APIs, SQL, and supervised machine learning\n",
    "\n",
    "**Total points (without extra credit)**: 48 \n",
    "\n",
    "\n",
    "## Resources from class\n",
    "\n",
    "### APIs\n",
    "- [Lecture slides](https://docs.google.com/presentation/d/1eblPOhpOL1HDFk3XOh3KvcrFceJ4pwZNUU_fvU8i7uo/edit#slide=id.p)\n",
    "- [Activity solutions](https://github.com/herbertfreeze/QSS_Public/blob/main/activities/solutions/06_apis_solutions.ipynb)\n",
    "\n",
    "\n",
    "### Supervised ML\n",
    "- [Lecture slides 1](https://docs.google.com/presentation/d/1V6X9aYkYLvyh3Ea0ZSn3qkttqKz7OOPkfvbqYybMi5Q/edit#slide=id.p)\n",
    "- [Lecture slides 2](https://docs.google.com/presentation/d/13xJTI_GZ2HZYI9OSmezwLUXXFxIrjwHXKz50QUjBF0w/edit)\n",
    "- [Intro activity solutions](https://github.com/herbertfreeze/QSS_Public/blob/main/activities/solutions/08_ML_intro_activity_solutions.ipynb)\n",
    "- [Part II activity solutions](https://github.com/herbertfreeze/QSS_Public/blob/main/activities/solutions/08_ML_optimization_activity_solutions.ipynb)\n",
    "- [DataCamp course](https://app.datacamp.com/learn/courses/supervised-learning-with-scikit-learn)\n",
    "\n",
    "### SQL\n",
    "- [Lecture slides](https://docs.google.com/presentation/d/1HHgrkFtuhGIaPNMd1EOiM-8VtgnF0cwjMcmah8oWmWA/edit?usp=sharing)\n",
    "- [Example code](https://github.com/herbertfreeze/QSS_Public/blob/main/activities/solutions/09_SQL_examplecode.ipynb)\n",
    "- [Activity solutions](https://github.com/herbertfreeze/QSS_Public/blob/main/activities/solutions/09_SQL_activity_solutions.ipynb)\n",
    "- [DataCamp course](https://app.datacamp.com/learn/courses/introduction-to-sql)"
   ]
  },
  {
   "cell_type": "markdown",
   "metadata": {},
   "source": [
    "# Prep work: change SQL dataset\n",
    "\n",
    "- Place it in [the same credentials yaml file on GitHub that contains the SQL database access information](https://github.com/herbertfreeze/QSS_public/blob/main/activities/09_db_cred.yaml) (password, host, etc.) \n",
    "    - Name the combined credentials file something appropriate (feel free to get creative)\n",
    "    - Change the database name from `sentencing` to `math_gencompare`"
   ]
  },
  {
   "cell_type": "markdown",
   "metadata": {},
   "source": [
    "## 0.0 Import packages"
   ]
  },
  {
   "cell_type": "markdown",
   "metadata": {},
   "source": [
    "**Note you need to install some of the packages imported below (see the comments).**"
   ]
  },
  {
   "cell_type": "code",
   "execution_count": 1,
   "metadata": {},
   "outputs": [],
   "source": [
    "## helpful packages\n",
    "import pandas as pd\n",
    "import numpy as np\n",
    "import random\n",
    "import re\n",
    "import string\n",
    "import requests\n",
    "import plotnine \n",
    "from plotnine import *\n",
    "import matplotlib.pyplot as plt\n",
    "import yaml\n",
    "#import warnings\n",
    "#warnings.filterwarnings(\"ignore\")\n",
    "\n",
    "## note: you may need to install these using !pip install\n",
    "#!pip install census\n",
    "#!pip install us\n",
    "import census\n",
    "from census import Census\n",
    "import us\n",
    "from us import states\n",
    "import mysql.connector\n",
    "\n",
    "## sklearn imports\n",
    "from sklearn.linear_model import LogisticRegression, LogisticRegressionCV\n",
    "from sklearn.metrics import accuracy_score, f1_score, precision_score, recall_score\n",
    "from sklearn.tree import DecisionTreeClassifier\n",
    "from sklearn import tree\n",
    "from sklearn.ensemble import RandomForestClassifier, GradientBoostingClassifier, AdaBoostClassifier\n",
    "from sklearn import preprocessing\n",
    "from sklearn.preprocessing import StandardScaler\n",
    "\n",
    "## print mult things\n",
    "from IPython.core.interactiveshell import InteractiveShell\n",
    "InteractiveShell.ast_node_interactivity = \"all\"\n",
    "\n",
    "\n",
    "def load_creds(path: str):\n",
    "    with open(path, 'r') as stream:\n",
    "        try:\n",
    "            creds = yaml.safe_load(stream)\n",
    "        except yaml.YAMLError as exc:\n",
    "            print(exc)\n",
    "    return(creds)\n",
    "\n",
    "pd.set_option('display.max_rows', 500)\n",
    "pd.set_option('display.max_columns', 500)\n",
    "pd.set_option('display.width', 1000)\n",
    "pd.set_option('display.max_colwidth', None)\n",
    "\n"
   ]
  },
  {
   "cell_type": "code",
   "execution_count": 2,
   "metadata": {},
   "outputs": [],
   "source": [
    "creds = load_creds(\"../QSS20/pset4.yaml\")"
   ]
  },
  {
   "cell_type": "code",
   "execution_count": 3,
   "metadata": {},
   "outputs": [
    {
     "data": {
      "text/plain": [
       "<mysql.connector.connection.MySQLConnection at 0x16ea10310>"
      ]
     },
     "execution_count": 3,
     "metadata": {},
     "output_type": "execute_result"
    }
   ],
   "source": [
    "comb = mysql.connector.connect(\n",
    "    user = creds[\"practice_database\"][\"user\"],\n",
    "    password = creds[\"practice_database\"][\"password\"],\n",
    "    port = creds[\"practice_database\"][\"port\"],\n",
    "    database = creds[\"practice_database\"][\"database\"],\n",
    "    host = creds[\"practice_database\"][\"host\"])\n",
    "comb"
   ]
  },
  {
   "cell_type": "markdown",
   "metadata": {},
   "source": [
    "# 1. Write a wrapper function to pull data from the NAEP API (12 points)\n",
    "\n",
    "In the class activity on APIs (see link above), we practiced pulling from the API for the National Assessment of Educational Progress (NAEP), \"America's report card\" of test scores. We pulled a small amount of data at the national level (writing scores by gender) using a query where the parameters were hardcoded.\n",
    "    \n",
    "In this problem, we'll practice pulling a larger set of data and writing a wrapper function.\n",
    "    \n",
    "As a reminder, the documentation is here: https://www.nationsreportcard.gov/api_documentation.aspx\n",
    "\n",
    "The base link is: https://www.nationsreportcard.gov/Dataservice/GetAdhocData.aspx"
   ]
  },
  {
   "cell_type": "markdown",
   "metadata": {},
   "source": [
    "## 1.1 Write a query to pull 8th-grade mathematics scores in 2015 from the state of California (CA) by gender (1 point)\n",
    "\n",
    "- Subject: mathematics \n",
    "- Subscale: MRPCM composite scale \n",
    "- Grade: 8\n",
    "- Year: 2015\n",
    "- grouping variable: GENDER \n",
    "- Jurisdiction: CA \n",
    "- stattype = MN (for mean)\n",
    "\n",
    "Print the output in dataframe format and briefly interpret; what do scores look like between the genders?"
   ]
  },
  {
   "cell_type": "code",
   "execution_count": 4,
   "metadata": {},
   "outputs": [
    {
     "data": {
      "text/plain": [
       "'https://www.nationsreportcard.gov/Dataservice/GetAdhocData.aspx?type=data&subject=mathematics&grade=8&subscale=MRPCM&variable=GENDER&jurisdiction=CA&stattype=MN:MN&Year=2015'"
      ]
     },
     "execution_count": 4,
     "metadata": {},
     "output_type": "execute_result"
    }
   ],
   "source": [
    "example_naep_query = (\n",
    "'https://www.nationsreportcard.gov/'\n",
    "'Dataservice/GetAdhocData.aspx?'\n",
    "'type=data&subject=mathematics&grade=8&'\n",
    "'subscale=MRPCM&variable=GENDER&jurisdiction=CA&stattype=MN:MN&Year=2015')\n",
    "\n",
    "\n",
    "example_naep_query"
   ]
  },
  {
   "cell_type": "code",
   "execution_count": 24,
   "metadata": {},
   "outputs": [],
   "source": []
  },
  {
   "cell_type": "code",
   "execution_count": 5,
   "metadata": {},
   "outputs": [
    {
     "data": {
      "text/html": [
       "<div>\n",
       "<style scoped>\n",
       "    .dataframe tbody tr th:only-of-type {\n",
       "        vertical-align: middle;\n",
       "    }\n",
       "\n",
       "    .dataframe tbody tr th {\n",
       "        vertical-align: top;\n",
       "    }\n",
       "\n",
       "    .dataframe thead th {\n",
       "        text-align: right;\n",
       "    }\n",
       "</style>\n",
       "<table border=\"1\" class=\"dataframe\">\n",
       "  <thead>\n",
       "    <tr style=\"text-align: right;\">\n",
       "      <th></th>\n",
       "      <th>year</th>\n",
       "      <th>sample</th>\n",
       "      <th>yearSampleLabel</th>\n",
       "      <th>Cohort</th>\n",
       "      <th>CohortLabel</th>\n",
       "      <th>stattype</th>\n",
       "      <th>subject</th>\n",
       "      <th>grade</th>\n",
       "      <th>scale</th>\n",
       "      <th>jurisdiction</th>\n",
       "      <th>jurisLabel</th>\n",
       "      <th>variable</th>\n",
       "      <th>variableLabel</th>\n",
       "      <th>varValue</th>\n",
       "      <th>varValueLabel</th>\n",
       "      <th>value</th>\n",
       "      <th>isStatDisplayable</th>\n",
       "      <th>errorFlag</th>\n",
       "    </tr>\n",
       "  </thead>\n",
       "  <tbody>\n",
       "    <tr>\n",
       "      <th>0</th>\n",
       "      <td>2015</td>\n",
       "      <td>R3</td>\n",
       "      <td>2015</td>\n",
       "      <td>2</td>\n",
       "      <td>Grade 8</td>\n",
       "      <td>MN:MN</td>\n",
       "      <td>MAT</td>\n",
       "      <td>8</td>\n",
       "      <td>MRPCM</td>\n",
       "      <td>CA</td>\n",
       "      <td>California</td>\n",
       "      <td>GENDER</td>\n",
       "      <td>Gender</td>\n",
       "      <td>1</td>\n",
       "      <td>Male</td>\n",
       "      <td>275.020977</td>\n",
       "      <td>1</td>\n",
       "      <td>0</td>\n",
       "    </tr>\n",
       "    <tr>\n",
       "      <th>1</th>\n",
       "      <td>2015</td>\n",
       "      <td>R3</td>\n",
       "      <td>2015</td>\n",
       "      <td>2</td>\n",
       "      <td>Grade 8</td>\n",
       "      <td>MN:MN</td>\n",
       "      <td>MAT</td>\n",
       "      <td>8</td>\n",
       "      <td>MRPCM</td>\n",
       "      <td>CA</td>\n",
       "      <td>California</td>\n",
       "      <td>GENDER</td>\n",
       "      <td>Gender</td>\n",
       "      <td>2</td>\n",
       "      <td>Female</td>\n",
       "      <td>275.638637</td>\n",
       "      <td>1</td>\n",
       "      <td>0</td>\n",
       "    </tr>\n",
       "  </tbody>\n",
       "</table>\n",
       "</div>"
      ],
      "text/plain": [
       "   year sample yearSampleLabel  Cohort CohortLabel stattype subject  grade  scale jurisdiction  jurisLabel variable variableLabel varValue varValueLabel       value  isStatDisplayable  errorFlag\n",
       "0  2015     R3            2015       2     Grade 8    MN:MN     MAT      8  MRPCM           CA  California   GENDER        Gender        1          Male  275.020977                  1          0\n",
       "1  2015     R3            2015       2     Grade 8    MN:MN     MAT      8  MRPCM           CA  California   GENDER        Gender        2        Female  275.638637                  1          0"
      ]
     },
     "execution_count": 5,
     "metadata": {},
     "output_type": "execute_result"
    }
   ],
   "source": [
    "naep_resp = requests.get(example_naep_query)\n",
    "naep_resp_j = naep_resp.json()\n",
    "naep_resp_d = pd.DataFrame(naep_resp_j['result'])\n",
    "naep_resp_d"
   ]
  },
  {
   "cell_type": "markdown",
   "metadata": {},
   "source": [
    "## Females scored 0.6 points highers than males in this example which is relatively negligible when the total values are in the hundreds"
   ]
  },
  {
   "cell_type": "markdown",
   "metadata": {},
   "source": [
    "## 1.2 Write a query to pull 8th-grade mathematics scores in 2013, 2015, 2017, and 2019 from California by gender (1 point)\n",
    "\n",
    "Same as 1.1 but pull the years 2013, 2015, 2017, and 2019 (search documentation for how to combine) in one query"
   ]
  },
  {
   "cell_type": "code",
   "execution_count": 6,
   "metadata": {},
   "outputs": [
    {
     "data": {
      "text/plain": [
       "'https://www.nationsreportcard.gov/Dataservice/GetAdhocData.aspx?type=data&subject=mathematics&grade=8&subscale=MRPCM&variable=GENDER&jurisdiction=CA&stattype=MN:MN&Year=2013,2015,2017,2019'"
      ]
     },
     "execution_count": 6,
     "metadata": {},
     "output_type": "execute_result"
    }
   ],
   "source": [
    "example2_naep_query = (\n",
    "'https://www.nationsreportcard.gov/'\n",
    "'Dataservice/GetAdhocData.aspx?'\n",
    "'type=data&subject=mathematics&grade=8&'\n",
    "'subscale=MRPCM&variable=GENDER&jurisdiction=CA&stattype=MN:MN&Year=2013,2015,2017,2019')\n",
    "example2_naep_query"
   ]
  },
  {
   "cell_type": "code",
   "execution_count": 7,
   "metadata": {},
   "outputs": [
    {
     "data": {
      "text/html": [
       "<div>\n",
       "<style scoped>\n",
       "    .dataframe tbody tr th:only-of-type {\n",
       "        vertical-align: middle;\n",
       "    }\n",
       "\n",
       "    .dataframe tbody tr th {\n",
       "        vertical-align: top;\n",
       "    }\n",
       "\n",
       "    .dataframe thead th {\n",
       "        text-align: right;\n",
       "    }\n",
       "</style>\n",
       "<table border=\"1\" class=\"dataframe\">\n",
       "  <thead>\n",
       "    <tr style=\"text-align: right;\">\n",
       "      <th></th>\n",
       "      <th>year</th>\n",
       "      <th>sample</th>\n",
       "      <th>yearSampleLabel</th>\n",
       "      <th>Cohort</th>\n",
       "      <th>CohortLabel</th>\n",
       "      <th>stattype</th>\n",
       "      <th>subject</th>\n",
       "      <th>grade</th>\n",
       "      <th>scale</th>\n",
       "      <th>jurisdiction</th>\n",
       "      <th>jurisLabel</th>\n",
       "      <th>variable</th>\n",
       "      <th>variableLabel</th>\n",
       "      <th>varValue</th>\n",
       "      <th>varValueLabel</th>\n",
       "      <th>value</th>\n",
       "      <th>isStatDisplayable</th>\n",
       "      <th>errorFlag</th>\n",
       "    </tr>\n",
       "  </thead>\n",
       "  <tbody>\n",
       "    <tr>\n",
       "      <th>0</th>\n",
       "      <td>2013</td>\n",
       "      <td>R3</td>\n",
       "      <td>2013</td>\n",
       "      <td>2</td>\n",
       "      <td>Grade 8</td>\n",
       "      <td>MN:MN</td>\n",
       "      <td>MAT</td>\n",
       "      <td>8</td>\n",
       "      <td>MRPCM</td>\n",
       "      <td>CA</td>\n",
       "      <td>California</td>\n",
       "      <td>GENDER</td>\n",
       "      <td>Gender</td>\n",
       "      <td>1</td>\n",
       "      <td>Male</td>\n",
       "      <td>277.167171</td>\n",
       "      <td>1</td>\n",
       "      <td>0</td>\n",
       "    </tr>\n",
       "    <tr>\n",
       "      <th>1</th>\n",
       "      <td>2013</td>\n",
       "      <td>R3</td>\n",
       "      <td>2013</td>\n",
       "      <td>2</td>\n",
       "      <td>Grade 8</td>\n",
       "      <td>MN:MN</td>\n",
       "      <td>MAT</td>\n",
       "      <td>8</td>\n",
       "      <td>MRPCM</td>\n",
       "      <td>CA</td>\n",
       "      <td>California</td>\n",
       "      <td>GENDER</td>\n",
       "      <td>Gender</td>\n",
       "      <td>2</td>\n",
       "      <td>Female</td>\n",
       "      <td>274.597824</td>\n",
       "      <td>1</td>\n",
       "      <td>0</td>\n",
       "    </tr>\n",
       "    <tr>\n",
       "      <th>2</th>\n",
       "      <td>2015</td>\n",
       "      <td>R3</td>\n",
       "      <td>2015</td>\n",
       "      <td>2</td>\n",
       "      <td>Grade 8</td>\n",
       "      <td>MN:MN</td>\n",
       "      <td>MAT</td>\n",
       "      <td>8</td>\n",
       "      <td>MRPCM</td>\n",
       "      <td>CA</td>\n",
       "      <td>California</td>\n",
       "      <td>GENDER</td>\n",
       "      <td>Gender</td>\n",
       "      <td>1</td>\n",
       "      <td>Male</td>\n",
       "      <td>275.020977</td>\n",
       "      <td>1</td>\n",
       "      <td>0</td>\n",
       "    </tr>\n",
       "    <tr>\n",
       "      <th>3</th>\n",
       "      <td>2015</td>\n",
       "      <td>R3</td>\n",
       "      <td>2015</td>\n",
       "      <td>2</td>\n",
       "      <td>Grade 8</td>\n",
       "      <td>MN:MN</td>\n",
       "      <td>MAT</td>\n",
       "      <td>8</td>\n",
       "      <td>MRPCM</td>\n",
       "      <td>CA</td>\n",
       "      <td>California</td>\n",
       "      <td>GENDER</td>\n",
       "      <td>Gender</td>\n",
       "      <td>2</td>\n",
       "      <td>Female</td>\n",
       "      <td>275.638637</td>\n",
       "      <td>1</td>\n",
       "      <td>0</td>\n",
       "    </tr>\n",
       "    <tr>\n",
       "      <th>4</th>\n",
       "      <td>2017</td>\n",
       "      <td>R3</td>\n",
       "      <td>2017</td>\n",
       "      <td>2</td>\n",
       "      <td>Grade 8</td>\n",
       "      <td>MN:MN</td>\n",
       "      <td>MAT</td>\n",
       "      <td>8</td>\n",
       "      <td>MRPCM</td>\n",
       "      <td>CA</td>\n",
       "      <td>California</td>\n",
       "      <td>GENDER</td>\n",
       "      <td>Gender</td>\n",
       "      <td>1</td>\n",
       "      <td>Male</td>\n",
       "      <td>276.608704</td>\n",
       "      <td>1</td>\n",
       "      <td>0</td>\n",
       "    </tr>\n",
       "    <tr>\n",
       "      <th>5</th>\n",
       "      <td>2017</td>\n",
       "      <td>R3</td>\n",
       "      <td>2017</td>\n",
       "      <td>2</td>\n",
       "      <td>Grade 8</td>\n",
       "      <td>MN:MN</td>\n",
       "      <td>MAT</td>\n",
       "      <td>8</td>\n",
       "      <td>MRPCM</td>\n",
       "      <td>CA</td>\n",
       "      <td>California</td>\n",
       "      <td>GENDER</td>\n",
       "      <td>Gender</td>\n",
       "      <td>2</td>\n",
       "      <td>Female</td>\n",
       "      <td>276.669430</td>\n",
       "      <td>1</td>\n",
       "      <td>0</td>\n",
       "    </tr>\n",
       "    <tr>\n",
       "      <th>6</th>\n",
       "      <td>2019</td>\n",
       "      <td>R3</td>\n",
       "      <td>2019</td>\n",
       "      <td>2</td>\n",
       "      <td>Grade 8</td>\n",
       "      <td>MN:MN</td>\n",
       "      <td>MAT</td>\n",
       "      <td>8</td>\n",
       "      <td>MRPCM</td>\n",
       "      <td>CA</td>\n",
       "      <td>California</td>\n",
       "      <td>GENDER</td>\n",
       "      <td>Gender</td>\n",
       "      <td>1</td>\n",
       "      <td>Male</td>\n",
       "      <td>274.511628</td>\n",
       "      <td>1</td>\n",
       "      <td>0</td>\n",
       "    </tr>\n",
       "    <tr>\n",
       "      <th>7</th>\n",
       "      <td>2019</td>\n",
       "      <td>R3</td>\n",
       "      <td>2019</td>\n",
       "      <td>2</td>\n",
       "      <td>Grade 8</td>\n",
       "      <td>MN:MN</td>\n",
       "      <td>MAT</td>\n",
       "      <td>8</td>\n",
       "      <td>MRPCM</td>\n",
       "      <td>CA</td>\n",
       "      <td>California</td>\n",
       "      <td>GENDER</td>\n",
       "      <td>Gender</td>\n",
       "      <td>2</td>\n",
       "      <td>Female</td>\n",
       "      <td>276.721824</td>\n",
       "      <td>1</td>\n",
       "      <td>0</td>\n",
       "    </tr>\n",
       "  </tbody>\n",
       "</table>\n",
       "</div>"
      ],
      "text/plain": [
       "   year sample yearSampleLabel  Cohort CohortLabel stattype subject  grade  scale jurisdiction  jurisLabel variable variableLabel varValue varValueLabel       value  isStatDisplayable  errorFlag\n",
       "0  2013     R3            2013       2     Grade 8    MN:MN     MAT      8  MRPCM           CA  California   GENDER        Gender        1          Male  277.167171                  1          0\n",
       "1  2013     R3            2013       2     Grade 8    MN:MN     MAT      8  MRPCM           CA  California   GENDER        Gender        2        Female  274.597824                  1          0\n",
       "2  2015     R3            2015       2     Grade 8    MN:MN     MAT      8  MRPCM           CA  California   GENDER        Gender        1          Male  275.020977                  1          0\n",
       "3  2015     R3            2015       2     Grade 8    MN:MN     MAT      8  MRPCM           CA  California   GENDER        Gender        2        Female  275.638637                  1          0\n",
       "4  2017     R3            2017       2     Grade 8    MN:MN     MAT      8  MRPCM           CA  California   GENDER        Gender        1          Male  276.608704                  1          0\n",
       "5  2017     R3            2017       2     Grade 8    MN:MN     MAT      8  MRPCM           CA  California   GENDER        Gender        2        Female  276.669430                  1          0\n",
       "6  2019     R3            2019       2     Grade 8    MN:MN     MAT      8  MRPCM           CA  California   GENDER        Gender        1          Male  274.511628                  1          0\n",
       "7  2019     R3            2019       2     Grade 8    MN:MN     MAT      8  MRPCM           CA  California   GENDER        Gender        2        Female  276.721824                  1          0"
      ]
     },
     "execution_count": 7,
     "metadata": {},
     "output_type": "execute_result"
    }
   ],
   "source": [
    "naep_resp2 = requests.get(example2_naep_query)\n",
    "naep_resp_j2 = naep_resp2.json()\n",
    "naep_resp_d2 = pd.DataFrame(naep_resp_j2['result'])\n",
    "naep_resp_d2"
   ]
  },
  {
   "cell_type": "markdown",
   "metadata": {},
   "source": [
    "## 1.3 Create a line plot to show variation in the scores across years (2 points)\n",
    "\n",
    "Using the results from 1.2, create a plot where the x axis has the year and the y axis is the math scores (`value` in dataframe), and there are separate lines/colors for male versus female students (`varValueLabel` in dataframe)\n",
    "\n",
    "Start the limits of the y axis minimum at 272 and add informative labels. Be sure your x-axis is ticked on odd years, because NAEP scores skip even years. "
   ]
  },
  {
   "cell_type": "code",
   "execution_count": 8,
   "metadata": {},
   "outputs": [
    {
     "data": {
      "text/plain": [
       "(272.0, 280.167170641967)"
      ]
     },
     "execution_count": 8,
     "metadata": {},
     "output_type": "execute_result"
    },
    {
     "data": {
      "text/plain": [
       "Text(0, 0.5, 'Math Scores')"
      ]
     },
     "execution_count": 8,
     "metadata": {},
     "output_type": "execute_result"
    },
    {
     "data": {
      "text/plain": [
       "[<matplotlib.lines.Line2D at 0x17130bd50>]"
      ]
     },
     "execution_count": 8,
     "metadata": {},
     "output_type": "execute_result"
    },
    {
     "data": {
      "text/plain": [
       "[<matplotlib.lines.Line2D at 0x17130df10>]"
      ]
     },
     "execution_count": 8,
     "metadata": {},
     "output_type": "execute_result"
    },
    {
     "data": {
      "text/plain": [
       "Text(0.5, 0, 'Year')"
      ]
     },
     "execution_count": 8,
     "metadata": {},
     "output_type": "execute_result"
    },
    {
     "data": {
      "text/plain": [
       "Text(0.5, 1.0, 'Math Scores of Male and Female Students')"
      ]
     },
     "execution_count": 8,
     "metadata": {},
     "output_type": "execute_result"
    },
    {
     "data": {
      "text/plain": [
       "<matplotlib.legend.Legend at 0x1712d4950>"
      ]
     },
     "execution_count": 8,
     "metadata": {},
     "output_type": "execute_result"
    },
    {
     "data": {
      "image/png": "[encoded data removed]",
      "text/plain": [
       "<Figure size 640x480 with 1 Axes>"
      ]
     },
     "metadata": {},
     "output_type": "display_data"
    }
   ],
   "source": [
    "male_data = naep_resp_d2[naep_resp_d2['varValueLabel'] == 'Male']\n",
    "female_data = naep_resp_d2[naep_resp_d2['varValueLabel'] == 'Female']\n",
    "\n",
    "fig, ax = plt.subplots()\n",
    "\n",
    "ax.set_ylim(272, max(naep_resp_d2['value']) + 3)\n",
    "ax.set_ylabel(\"Math Scores\")\n",
    "\n",
    "plt.plot(male_data['yearSampleLabel'], male_data['value'], label='Male', marker='o')\n",
    "plt.plot(female_data['yearSampleLabel'], female_data['value'], label='Female', marker='o')\n",
    "\n",
    "plt.xlabel(\"Year\")\n",
    "plt.title(\"Math Scores of Male and Female Students\")\n",
    "plt.legend()\n",
    "\n",
    "plt.grid(True)\n",
    "plt.show()\n"
   ]
  },
  {
   "cell_type": "markdown",
   "metadata": {},
   "source": [
    "## 1.4 Reproduce the queries from 1.1 and 1.2 using a user-defined function (4 points)\n",
    "\n",
    "Create a function, `construct_naep_query` that takes in two arguments:\n",
    "\n",
    "- year: this should be a list with all years (so if one year, single element list; if multiple years, list with those years)\n",
    "- place: this should be a string with the name of the state or jurisdiction to pull \n",
    "    \n",
    "Have the function return the query and make sure it's identical to the queries you wrote for 1.1 and 1.2 (can use assert or other checker)"
   ]
  },
  {
   "cell_type": "code",
   "execution_count": 9,
   "metadata": {},
   "outputs": [
    {
     "data": {
      "text/plain": [
       "'https://www.nationsreportcard.gov/Dataservice/GetAdhocData.aspx?type=data&subject=mathematics&grade=8&subscale=MRPCM&variable=GENDER&jurisdiction=CA&stattype=MN:MN&Year=2011,2013'"
      ]
     },
     "execution_count": 9,
     "metadata": {},
     "output_type": "execute_result"
    }
   ],
   "source": [
    "def construct_naep_query(year, place):\n",
    "    year_string = ','.join(year)  \n",
    "    return('https://www.nationsreportcard.gov/'\n",
    "                 'Dataservice/GetAdhocData.aspx?'\n",
    "                 'type=data&subject=mathematics&grade=8&'\n",
    "                 'subscale=MRPCM&variable=GENDER&jurisdiction='+place+'&stattype=MN:MN&Year='+year_string)\n",
    "\n",
    "\n",
    "query_func = construct_naep_query([\"2011\",\"2013\"], \"CA\")\n",
    "query_func"
   ]
  },
  {
   "cell_type": "code",
   "execution_count": 10,
   "metadata": {},
   "outputs": [
    {
     "data": {
      "text/html": [
       "<div>\n",
       "<style scoped>\n",
       "    .dataframe tbody tr th:only-of-type {\n",
       "        vertical-align: middle;\n",
       "    }\n",
       "\n",
       "    .dataframe tbody tr th {\n",
       "        vertical-align: top;\n",
       "    }\n",
       "\n",
       "    .dataframe thead th {\n",
       "        text-align: right;\n",
       "    }\n",
       "</style>\n",
       "<table border=\"1\" class=\"dataframe\">\n",
       "  <thead>\n",
       "    <tr style=\"text-align: right;\">\n",
       "      <th></th>\n",
       "      <th>year</th>\n",
       "      <th>sample</th>\n",
       "      <th>yearSampleLabel</th>\n",
       "      <th>Cohort</th>\n",
       "      <th>CohortLabel</th>\n",
       "      <th>stattype</th>\n",
       "      <th>subject</th>\n",
       "      <th>grade</th>\n",
       "      <th>scale</th>\n",
       "      <th>jurisdiction</th>\n",
       "      <th>jurisLabel</th>\n",
       "      <th>variable</th>\n",
       "      <th>variableLabel</th>\n",
       "      <th>varValue</th>\n",
       "      <th>varValueLabel</th>\n",
       "      <th>value</th>\n",
       "      <th>isStatDisplayable</th>\n",
       "      <th>errorFlag</th>\n",
       "    </tr>\n",
       "  </thead>\n",
       "  <tbody>\n",
       "    <tr>\n",
       "      <th>0</th>\n",
       "      <td>2011</td>\n",
       "      <td>R3</td>\n",
       "      <td>2011</td>\n",
       "      <td>2</td>\n",
       "      <td>Grade 8</td>\n",
       "      <td>MN:MN</td>\n",
       "      <td>MAT</td>\n",
       "      <td>8</td>\n",
       "      <td>MRPCM</td>\n",
       "      <td>CA</td>\n",
       "      <td>California</td>\n",
       "      <td>GENDER</td>\n",
       "      <td>Gender</td>\n",
       "      <td>1</td>\n",
       "      <td>Male</td>\n",
       "      <td>272.886065</td>\n",
       "      <td>1</td>\n",
       "      <td>0</td>\n",
       "    </tr>\n",
       "    <tr>\n",
       "      <th>1</th>\n",
       "      <td>2011</td>\n",
       "      <td>R3</td>\n",
       "      <td>2011</td>\n",
       "      <td>2</td>\n",
       "      <td>Grade 8</td>\n",
       "      <td>MN:MN</td>\n",
       "      <td>MAT</td>\n",
       "      <td>8</td>\n",
       "      <td>MRPCM</td>\n",
       "      <td>CA</td>\n",
       "      <td>California</td>\n",
       "      <td>GENDER</td>\n",
       "      <td>Gender</td>\n",
       "      <td>2</td>\n",
       "      <td>Female</td>\n",
       "      <td>272.647217</td>\n",
       "      <td>1</td>\n",
       "      <td>0</td>\n",
       "    </tr>\n",
       "    <tr>\n",
       "      <th>2</th>\n",
       "      <td>2013</td>\n",
       "      <td>R3</td>\n",
       "      <td>2013</td>\n",
       "      <td>2</td>\n",
       "      <td>Grade 8</td>\n",
       "      <td>MN:MN</td>\n",
       "      <td>MAT</td>\n",
       "      <td>8</td>\n",
       "      <td>MRPCM</td>\n",
       "      <td>CA</td>\n",
       "      <td>California</td>\n",
       "      <td>GENDER</td>\n",
       "      <td>Gender</td>\n",
       "      <td>1</td>\n",
       "      <td>Male</td>\n",
       "      <td>277.167171</td>\n",
       "      <td>1</td>\n",
       "      <td>0</td>\n",
       "    </tr>\n",
       "    <tr>\n",
       "      <th>3</th>\n",
       "      <td>2013</td>\n",
       "      <td>R3</td>\n",
       "      <td>2013</td>\n",
       "      <td>2</td>\n",
       "      <td>Grade 8</td>\n",
       "      <td>MN:MN</td>\n",
       "      <td>MAT</td>\n",
       "      <td>8</td>\n",
       "      <td>MRPCM</td>\n",
       "      <td>CA</td>\n",
       "      <td>California</td>\n",
       "      <td>GENDER</td>\n",
       "      <td>Gender</td>\n",
       "      <td>2</td>\n",
       "      <td>Female</td>\n",
       "      <td>274.597824</td>\n",
       "      <td>1</td>\n",
       "      <td>0</td>\n",
       "    </tr>\n",
       "  </tbody>\n",
       "</table>\n",
       "</div>"
      ],
      "text/plain": [
       "   year sample yearSampleLabel  Cohort CohortLabel stattype subject  grade  scale jurisdiction  jurisLabel variable variableLabel varValue varValueLabel       value  isStatDisplayable  errorFlag\n",
       "0  2011     R3            2011       2     Grade 8    MN:MN     MAT      8  MRPCM           CA  California   GENDER        Gender        1          Male  272.886065                  1          0\n",
       "1  2011     R3            2011       2     Grade 8    MN:MN     MAT      8  MRPCM           CA  California   GENDER        Gender        2        Female  272.647217                  1          0\n",
       "2  2013     R3            2013       2     Grade 8    MN:MN     MAT      8  MRPCM           CA  California   GENDER        Gender        1          Male  277.167171                  1          0\n",
       "3  2013     R3            2013       2     Grade 8    MN:MN     MAT      8  MRPCM           CA  California   GENDER        Gender        2        Female  274.597824                  1          0"
      ]
     },
     "execution_count": 10,
     "metadata": {},
     "output_type": "execute_result"
    }
   ],
   "source": [
    "naep_resp3 = requests.get(query_func)\n",
    "naep_resp_j3 = naep_resp3.json()\n",
    "naep_resp_d3 = pd.DataFrame(naep_resp_j3['result'])\n",
    "naep_resp_d3"
   ]
  },
  {
   "cell_type": "markdown",
   "metadata": {},
   "source": [
    "## 1.5 Write and execute user-defined function that takes in a query and returns a pandas dataframe with the content of the response (4 points)\n",
    "\n",
    "- Write a user-defined function (`process_naep_query`) that takes in the CA-specific NAEP query as a string, calls the API, and transforms the response into a pandas dataframe. Have the function return that pandas dataframe\n",
    "\n",
    "- Make sure the function is flexible enough to handle queries that return an error; for queries that return an error, have the function return the string \"Data not found; check your query\" (see [API part 1 solutions code](https://github.com/herbertfreeze/QSS_public/blob/main/activities/solutions/06_apis_solutions.ipynb) for an example of `try:`/`except:`)\n",
    "\n",
    "- Execute the function on the query that pulls 2013-2019 data (either from handwriting the query or the result in 1.4)\n",
    "\n",
    "- Print the resulting dataframe\n",
    "\n",
    "- Then execute the function on a query that pulls a state that doesn't exist (call this state ZZ)"
   ]
  },
  {
   "cell_type": "code",
   "execution_count": 11,
   "metadata": {},
   "outputs": [
    {
     "data": {
      "text/html": [
       "<div>\n",
       "<style scoped>\n",
       "    .dataframe tbody tr th:only-of-type {\n",
       "        vertical-align: middle;\n",
       "    }\n",
       "\n",
       "    .dataframe tbody tr th {\n",
       "        vertical-align: top;\n",
       "    }\n",
       "\n",
       "    .dataframe thead th {\n",
       "        text-align: right;\n",
       "    }\n",
       "</style>\n",
       "<table border=\"1\" class=\"dataframe\">\n",
       "  <thead>\n",
       "    <tr style=\"text-align: right;\">\n",
       "      <th></th>\n",
       "      <th>status</th>\n",
       "      <th>result</th>\n",
       "    </tr>\n",
       "  </thead>\n",
       "  <tbody>\n",
       "    <tr>\n",
       "      <th>0</th>\n",
       "      <td>200</td>\n",
       "      <td>{'year': 2013, 'sample': 'R3', 'yearSampleLabel': '2013', 'Cohort': 2, 'CohortLabel': 'Grade 8', 'stattype': 'MN:MN', 'subject': 'MAT', 'grade': 8, 'scale': 'MRPCM', 'jurisdiction': 'CA', 'jurisLabel': 'California', 'variable': 'GENDER', 'variableLabel': 'Gender', 'varValue': '1', 'varValueLabel': 'Male', 'value': 277.167170641967, 'isStatDisplayable': 1, 'errorFlag': 0}</td>\n",
       "    </tr>\n",
       "    <tr>\n",
       "      <th>1</th>\n",
       "      <td>200</td>\n",
       "      <td>{'year': 2013, 'sample': 'R3', 'yearSampleLabel': '2013', 'Cohort': 2, 'CohortLabel': 'Grade 8', 'stattype': 'MN:MN', 'subject': 'MAT', 'grade': 8, 'scale': 'MRPCM', 'jurisdiction': 'CA', 'jurisLabel': 'California', 'variable': 'GENDER', 'variableLabel': 'Gender', 'varValue': '2', 'varValueLabel': 'Female', 'value': 274.597823860242, 'isStatDisplayable': 1, 'errorFlag': 0}</td>\n",
       "    </tr>\n",
       "    <tr>\n",
       "      <th>2</th>\n",
       "      <td>200</td>\n",
       "      <td>{'year': 2015, 'sample': 'R3', 'yearSampleLabel': '2015', 'Cohort': 2, 'CohortLabel': 'Grade 8', 'stattype': 'MN:MN', 'subject': 'MAT', 'grade': 8, 'scale': 'MRPCM', 'jurisdiction': 'CA', 'jurisLabel': 'California', 'variable': 'GENDER', 'variableLabel': 'Gender', 'varValue': '1', 'varValueLabel': 'Male', 'value': 275.020976636682, 'isStatDisplayable': 1, 'errorFlag': 0}</td>\n",
       "    </tr>\n",
       "    <tr>\n",
       "      <th>3</th>\n",
       "      <td>200</td>\n",
       "      <td>{'year': 2015, 'sample': 'R3', 'yearSampleLabel': '2015', 'Cohort': 2, 'CohortLabel': 'Grade 8', 'stattype': 'MN:MN', 'subject': 'MAT', 'grade': 8, 'scale': 'MRPCM', 'jurisdiction': 'CA', 'jurisLabel': 'California', 'variable': 'GENDER', 'variableLabel': 'Gender', 'varValue': '2', 'varValueLabel': 'Female', 'value': 275.638637274477, 'isStatDisplayable': 1, 'errorFlag': 0}</td>\n",
       "    </tr>\n",
       "    <tr>\n",
       "      <th>4</th>\n",
       "      <td>200</td>\n",
       "      <td>{'year': 2017, 'sample': 'R3', 'yearSampleLabel': '2017', 'Cohort': 2, 'CohortLabel': 'Grade 8', 'stattype': 'MN:MN', 'subject': 'MAT', 'grade': 8, 'scale': 'MRPCM', 'jurisdiction': 'CA', 'jurisLabel': 'California', 'variable': 'GENDER', 'variableLabel': 'Gender', 'varValue': '1', 'varValueLabel': 'Male', 'value': 276.60870373867, 'isStatDisplayable': 1, 'errorFlag': 0}</td>\n",
       "    </tr>\n",
       "    <tr>\n",
       "      <th>5</th>\n",
       "      <td>200</td>\n",
       "      <td>{'year': 2017, 'sample': 'R3', 'yearSampleLabel': '2017', 'Cohort': 2, 'CohortLabel': 'Grade 8', 'stattype': 'MN:MN', 'subject': 'MAT', 'grade': 8, 'scale': 'MRPCM', 'jurisdiction': 'CA', 'jurisLabel': 'California', 'variable': 'GENDER', 'variableLabel': 'Gender', 'varValue': '2', 'varValueLabel': 'Female', 'value': 276.669430435038, 'isStatDisplayable': 1, 'errorFlag': 0}</td>\n",
       "    </tr>\n",
       "    <tr>\n",
       "      <th>6</th>\n",
       "      <td>200</td>\n",
       "      <td>{'year': 2019, 'sample': 'R3', 'yearSampleLabel': '2019', 'Cohort': 2, 'CohortLabel': 'Grade 8', 'stattype': 'MN:MN', 'subject': 'MAT', 'grade': 8, 'scale': 'MRPCM', 'jurisdiction': 'CA', 'jurisLabel': 'California', 'variable': 'GENDER', 'variableLabel': 'Gender', 'varValue': '1', 'varValueLabel': 'Male', 'value': 274.511628087454, 'isStatDisplayable': 1, 'errorFlag': 0}</td>\n",
       "    </tr>\n",
       "    <tr>\n",
       "      <th>7</th>\n",
       "      <td>200</td>\n",
       "      <td>{'year': 2019, 'sample': 'R3', 'yearSampleLabel': '2019', 'Cohort': 2, 'CohortLabel': 'Grade 8', 'stattype': 'MN:MN', 'subject': 'MAT', 'grade': 8, 'scale': 'MRPCM', 'jurisdiction': 'CA', 'jurisLabel': 'California', 'variable': 'GENDER', 'variableLabel': 'Gender', 'varValue': '2', 'varValueLabel': 'Female', 'value': 276.721823543785, 'isStatDisplayable': 1, 'errorFlag': 0}</td>\n",
       "    </tr>\n",
       "  </tbody>\n",
       "</table>\n",
       "</div>"
      ],
      "text/plain": [
       "   status                                                                                                                                                                                                                                                                                                                                                                                   result\n",
       "0     200    {'year': 2013, 'sample': 'R3', 'yearSampleLabel': '2013', 'Cohort': 2, 'CohortLabel': 'Grade 8', 'stattype': 'MN:MN', 'subject': 'MAT', 'grade': 8, 'scale': 'MRPCM', 'jurisdiction': 'CA', 'jurisLabel': 'California', 'variable': 'GENDER', 'variableLabel': 'Gender', 'varValue': '1', 'varValueLabel': 'Male', 'value': 277.167170641967, 'isStatDisplayable': 1, 'errorFlag': 0}\n",
       "1     200  {'year': 2013, 'sample': 'R3', 'yearSampleLabel': '2013', 'Cohort': 2, 'CohortLabel': 'Grade 8', 'stattype': 'MN:MN', 'subject': 'MAT', 'grade': 8, 'scale': 'MRPCM', 'jurisdiction': 'CA', 'jurisLabel': 'California', 'variable': 'GENDER', 'variableLabel': 'Gender', 'varValue': '2', 'varValueLabel': 'Female', 'value': 274.597823860242, 'isStatDisplayable': 1, 'errorFlag': 0}\n",
       "2     200    {'year': 2015, 'sample': 'R3', 'yearSampleLabel': '2015', 'Cohort': 2, 'CohortLabel': 'Grade 8', 'stattype': 'MN:MN', 'subject': 'MAT', 'grade': 8, 'scale': 'MRPCM', 'jurisdiction': 'CA', 'jurisLabel': 'California', 'variable': 'GENDER', 'variableLabel': 'Gender', 'varValue': '1', 'varValueLabel': 'Male', 'value': 275.020976636682, 'isStatDisplayable': 1, 'errorFlag': 0}\n",
       "3     200  {'year': 2015, 'sample': 'R3', 'yearSampleLabel': '2015', 'Cohort': 2, 'CohortLabel': 'Grade 8', 'stattype': 'MN:MN', 'subject': 'MAT', 'grade': 8, 'scale': 'MRPCM', 'jurisdiction': 'CA', 'jurisLabel': 'California', 'variable': 'GENDER', 'variableLabel': 'Gender', 'varValue': '2', 'varValueLabel': 'Female', 'value': 275.638637274477, 'isStatDisplayable': 1, 'errorFlag': 0}\n",
       "4     200     {'year': 2017, 'sample': 'R3', 'yearSampleLabel': '2017', 'Cohort': 2, 'CohortLabel': 'Grade 8', 'stattype': 'MN:MN', 'subject': 'MAT', 'grade': 8, 'scale': 'MRPCM', 'jurisdiction': 'CA', 'jurisLabel': 'California', 'variable': 'GENDER', 'variableLabel': 'Gender', 'varValue': '1', 'varValueLabel': 'Male', 'value': 276.60870373867, 'isStatDisplayable': 1, 'errorFlag': 0}\n",
       "5     200  {'year': 2017, 'sample': 'R3', 'yearSampleLabel': '2017', 'Cohort': 2, 'CohortLabel': 'Grade 8', 'stattype': 'MN:MN', 'subject': 'MAT', 'grade': 8, 'scale': 'MRPCM', 'jurisdiction': 'CA', 'jurisLabel': 'California', 'variable': 'GENDER', 'variableLabel': 'Gender', 'varValue': '2', 'varValueLabel': 'Female', 'value': 276.669430435038, 'isStatDisplayable': 1, 'errorFlag': 0}\n",
       "6     200    {'year': 2019, 'sample': 'R3', 'yearSampleLabel': '2019', 'Cohort': 2, 'CohortLabel': 'Grade 8', 'stattype': 'MN:MN', 'subject': 'MAT', 'grade': 8, 'scale': 'MRPCM', 'jurisdiction': 'CA', 'jurisLabel': 'California', 'variable': 'GENDER', 'variableLabel': 'Gender', 'varValue': '1', 'varValueLabel': 'Male', 'value': 274.511628087454, 'isStatDisplayable': 1, 'errorFlag': 0}\n",
       "7     200  {'year': 2019, 'sample': 'R3', 'yearSampleLabel': '2019', 'Cohort': 2, 'CohortLabel': 'Grade 8', 'stattype': 'MN:MN', 'subject': 'MAT', 'grade': 8, 'scale': 'MRPCM', 'jurisdiction': 'CA', 'jurisLabel': 'California', 'variable': 'GENDER', 'variableLabel': 'Gender', 'varValue': '2', 'varValueLabel': 'Female', 'value': 276.721823543785, 'isStatDisplayable': 1, 'errorFlag': 0}"
      ]
     },
     "execution_count": 11,
     "metadata": {},
     "output_type": "execute_result"
    },
    {
     "name": "stdout",
     "output_type": "stream",
     "text": [
      "Data not found; check your query\n"
     ]
    }
   ],
   "source": [
    "def process_naep_query(query):\n",
    "    try:\n",
    "        response = requests.get(query)\n",
    "        response.raise_for_status()\n",
    "\n",
    "        data = response.json()\n",
    "        df = pd.DataFrame(data)\n",
    "\n",
    "        return df\n",
    "    except:\n",
    "        print('Data not found; check your query')\n",
    "\n",
    "\n",
    "query_valid = 'https://www.nationsreportcard.gov/Dataservice/GetAdhocData.aspx?type=data&subject=mathematics&grade=8&subscale=MRPCM&variable=GENDER&jurisdiction=CA&stattype=MN:MN&Year=2013,2015,2017,2019'\n",
    "result_valid = process_naep_query(query_valid)\n",
    "result_valid\n",
    "query_non_existent_state = 'https://www.nationsreportcard.gov/Dataservice/GetAdhocData.aspx?type=data&subject=mathematics&grade=8&subscale=MRPCM&variable=GENDER&jurisdiction=ZZ&stattype=MN:MN&Year=2013'\n",
    "result_non_existent_state = process_naep_query(query_non_existent_state)\n",
    "result_non_existent_state\n"
   ]
  },
  {
   "cell_type": "markdown",
   "metadata": {},
   "source": [
    "# 2. Explore data using SQL queries (18 points)\n",
    "\n",
    "In the previous example, you worked with the data in a flat file and manipulated it using pandas. Here, we're going to practice running queries to do some calculations using SQL --- in the case of our data, this is a bit overkill since the data are small but it is practice for larger datasets."
   ]
  },
  {
   "cell_type": "markdown",
   "metadata": {},
   "source": [
    "## 2.1 Load database credentials and establish a connection (1 point)\n",
    "\n",
    "Load a credentials file that contains the credentials you'll need for this and the next problem:\n",
    "\n",
    "- The credentials for our class database\n",
    "- The credentials for the Census API (see instructions above)\n",
    "\n",
    "Note: to establish the SQL connection, you need to be on `eduroam` (near campus) or the Dartmouth's GlobalProtect `VPN`  ([installation instructions here](https://services.dartmouth.edu/TDClient/1806/Portal/KB/ArticleDet?ID=72395))"
   ]
  },
  {
   "cell_type": "code",
   "execution_count": 12,
   "metadata": {},
   "outputs": [],
   "source": [
    "creds = load_creds(\"../QSS20/pset4.yaml\")"
   ]
  },
  {
   "cell_type": "code",
   "execution_count": 13,
   "metadata": {},
   "outputs": [
    {
     "data": {
      "text/plain": [
       "<mysql.connector.connection.MySQLConnection at 0x16f1478d0>"
      ]
     },
     "execution_count": 13,
     "metadata": {},
     "output_type": "execute_result"
    }
   ],
   "source": [
    "comb = mysql.connector.connect(\n",
    "    user = creds[\"practice_database\"][\"user\"],\n",
    "    password = creds[\"practice_database\"][\"password\"],\n",
    "    port = creds[\"practice_database\"][\"port\"],\n",
    "    database = creds[\"practice_database\"][\"database\"],\n",
    "    host = creds[\"practice_database\"][\"host\"])\n",
    "comb "
   ]
  },
  {
   "cell_type": "markdown",
   "metadata": {},
   "source": [
    "## 2.2 Run a query to select all columns and the first 5 rows of the math_gencompare database to explore structure (2 points)\n",
    "\n",
    "Read the results in as a pandas dataframe and print the result"
   ]
  },
  {
   "cell_type": "code",
   "execution_count": null,
   "metadata": {},
   "outputs": [
    {
     "name": "stderr",
     "output_type": "stream",
     "text": [
      "/var/folders/8v/m3bhfypx26q8gdlmpkdbmyf00000gn/T/ipykernel_44890/2389848715.py:7: UserWarning: pandas only supports SQLAlchemy connectable (engine/connection) or database string URI or sqlite3 DBAPI2 connection. Other DBAPI2 objects are not tested. Please consider using SQLAlchemy.\n"
     ]
    }
   ],
   "source": [
    "q = \"\"\"\n",
    "SELECT \n",
    "    *\n",
    "FROM math_gencompare\n",
    "LIMIT 5\n",
    "\"\"\"\n",
    "pd.read_sql_query(q, comb)"
   ]
  },
  {
   "cell_type": "markdown",
   "metadata": {},
   "source": [
    "## 2.3 Find the (1) number of rows in the database, (2) number of distinct states,  (3) number of distinct years (3 points)\n",
    "\n",
    "Interpret the results - how do you think the data is structured in terms of states and years (eg long format where each state repeated; wide format)?\n",
    "\n",
    "**Hint**: rather than using count `(*)` for the latter two, think about the `distinct` command in combination with `count`: https://www.w3resource.com/mysql/aggregate-functions-and-grouping/aggregate-functions-and-grouping-count-with-distinct.php"
   ]
  },
  {
   "cell_type": "code",
   "execution_count": null,
   "metadata": {},
   "outputs": [],
   "source": [
    "z = \"\"\"\n",
    "SELECT\n",
    "COUNT(*)\n",
    "FROM math_gencompare\n",
    "\"\"\"\n",
    "pd.read_sql_query(z, comb)"
   ]
  },
  {
   "cell_type": "code",
   "execution_count": 136,
   "metadata": {},
   "outputs": [
    {
     "name": "stderr",
     "output_type": "stream",
     "text": [
      "/var/folders/8v/m3bhfypx26q8gdlmpkdbmyf00000gn/T/ipykernel_42842/575369664.py:6: UserWarning: pandas only supports SQLAlchemy connectable (engine/connection) or database string URI or sqlite3 DBAPI2 connection. Other DBAPI2 objects are not tested. Please consider using SQLAlchemy.\n"
     ]
    },
    {
     "data": {
      "text/html": [
       "<div>\n",
       "<style scoped>\n",
       "    .dataframe tbody tr th:only-of-type {\n",
       "        vertical-align: middle;\n",
       "    }\n",
       "\n",
       "    .dataframe tbody tr th {\n",
       "        vertical-align: top;\n",
       "    }\n",
       "\n",
       "    .dataframe thead th {\n",
       "        text-align: right;\n",
       "    }\n",
       "</style>\n",
       "<table border=\"1\" class=\"dataframe\">\n",
       "  <thead>\n",
       "    <tr style=\"text-align: right;\">\n",
       "      <th></th>\n",
       "      <th>COUNT(DISTINCT state)</th>\n",
       "    </tr>\n",
       "  </thead>\n",
       "  <tbody>\n",
       "    <tr>\n",
       "      <th>0</th>\n",
       "      <td>50</td>\n",
       "    </tr>\n",
       "  </tbody>\n",
       "</table>\n",
       "</div>"
      ],
      "text/plain": [
       "   COUNT(DISTINCT state)\n",
       "0                     50"
      ]
     },
     "execution_count": 136,
     "metadata": {},
     "output_type": "execute_result"
    }
   ],
   "source": [
    "a = \"\"\"\n",
    "SELECT\n",
    "COUNT(DISTINCT state)\n",
    "FROM math_gencompare\n",
    "\"\"\"\n",
    "pd.read_sql_query(a, comb)"
   ]
  },
  {
   "cell_type": "code",
   "execution_count": 137,
   "metadata": {},
   "outputs": [
    {
     "name": "stderr",
     "output_type": "stream",
     "text": [
      "/var/folders/8v/m3bhfypx26q8gdlmpkdbmyf00000gn/T/ipykernel_42842/1780447320.py:6: UserWarning: pandas only supports SQLAlchemy connectable (engine/connection) or database string URI or sqlite3 DBAPI2 connection. Other DBAPI2 objects are not tested. Please consider using SQLAlchemy.\n"
     ]
    },
    {
     "data": {
      "text/html": [
       "<div>\n",
       "<style scoped>\n",
       "    .dataframe tbody tr th:only-of-type {\n",
       "        vertical-align: middle;\n",
       "    }\n",
       "\n",
       "    .dataframe tbody tr th {\n",
       "        vertical-align: top;\n",
       "    }\n",
       "\n",
       "    .dataframe thead th {\n",
       "        text-align: right;\n",
       "    }\n",
       "</style>\n",
       "<table border=\"1\" class=\"dataframe\">\n",
       "  <thead>\n",
       "    <tr style=\"text-align: right;\">\n",
       "      <th></th>\n",
       "      <th>COUNT(DISTINCT year)</th>\n",
       "    </tr>\n",
       "  </thead>\n",
       "  <tbody>\n",
       "    <tr>\n",
       "      <th>0</th>\n",
       "      <td>4</td>\n",
       "    </tr>\n",
       "  </tbody>\n",
       "</table>\n",
       "</div>"
      ],
      "text/plain": [
       "   COUNT(DISTINCT year)\n",
       "0                     4"
      ]
     },
     "execution_count": 137,
     "metadata": {},
     "output_type": "execute_result"
    }
   ],
   "source": [
    "b = \"\"\"\n",
    "SELECT\n",
    "COUNT(DISTINCT year)\n",
    "FROM math_gencompare\n",
    "\"\"\"\n",
    "pd.read_sql_query(b, comb)"
   ]
  },
  {
   "cell_type": "markdown",
   "metadata": {},
   "source": [
    "## 2.4 Construct a new variable, `is_male_higher` that takes the value of 1 if the math scores of males exceed that of females in that state and year (each row) (2 points)\n",
    "\n",
    "Read in the results, print the head, and find the mean across all rows (the percentage of state-years where male students have higher scores)"
   ]
  },
  {
   "cell_type": "code",
   "execution_count": null,
   "metadata": {},
   "outputs": [],
   "source": [
    "query = \"\"\"\n",
    "ALTER TABLE math_gencompare\n",
    "ADD COLUMN is_male_higher INT; \n",
    "\n",
    "UPDATE math_gencompare\n",
    "SET is_male_higher =\n",
    "    CASE WHEN avg_math_male > avg_math_female THEN 1\n",
    "    END;\n",
    "\"\"\"\n",
    "df = pd.read_sql_query(query, comb)\n",
    "df.head()\n",
    "    "
   ]
  },
  {
   "cell_type": "markdown",
   "metadata": {},
   "source": [
    "## 2.5 group by year and find the percentage of states where male scores are higher than females (4 points)\n",
    "\n",
    "**A.** Write a query that (1) groups by year and (2) finds the percentage of states that have higher scores for males than females in this year \n",
    "\n",
    "**B.** Print the resulting dataframe and interpret the results \n",
    "\n",
    "**Hint:** To compare male and female scores, consider logical operators (e.g., `<`, `>`, `=`) and simple aggregation (e.g., `avg()` to get mean) or using a subquery to construct the indicator."
   ]
  },
  {
   "cell_type": "code",
   "execution_count": null,
   "metadata": {},
   "outputs": [],
   "source": [
    "# your code here"
   ]
  },
  {
   "cell_type": "markdown",
   "metadata": {},
   "source": [
    "## 2.6 group by state and find the percentage of years where male scores higher than females\n",
    "\n",
    "**A.** Write a query that (1) groups by state and (2) finds the percentage of years that have higher scores for males than females in that state\n",
    "\n",
    "**B.** Plot the results ordering the states from males higher all 4 years to males higher none of the years"
   ]
  },
  {
   "cell_type": "code",
   "execution_count": null,
   "metadata": {},
   "outputs": [],
   "source": [
    "# your code here"
   ]
  },
  {
   "cell_type": "markdown",
   "metadata": {},
   "source": [
    "## 2.7 Use a subquery to create an indicator and group by that indicator (6 points)\n",
    "\n",
    "The following states were the first 6 to expand the right to vote to women before the uniform federal expansion in 1920\n",
    "\n",
    "- Wyoming 1890\n",
    "- Colorado 1893\n",
    "- Utah 1896\n",
    "- Idaho 1896\n",
    "- Washington 1910\n",
    "- California 1911\n",
    "\n",
    "**A.** Create an indicator `is_early_voter` for whether a state is in that list or not; do so without typing the state names inside the string and instead collapsing the list of states we provide and using something like `format`. Hint on how to combine the state names while preserving the quotes around each: https://stackoverflow.com/questions/12007686/join-a-list-of-strings-in-python-and-wrap-each-string-in-quotation-marks \n",
    "\n",
    "**B.** Then, group by the `is_early_voter` indicator and `year` and find the percencentage of states in each group where males had higher scores than females \n",
    "\n",
    "**C.** Print the resulting dataframe and interpret. Does early expansion of voting seem to be correlated with girls scoring better on the math tests a century later?\n",
    "\n",
    "**Hint:** in order to group by the indicator in step b, you may need to use a subquery "
   ]
  },
  {
   "cell_type": "code",
   "execution_count": null,
   "metadata": {},
   "outputs": [],
   "source": [
    "## list of states we provide\n",
    "list_suffrage = [\"Wyoming\", \"Colorado\", \"Utah\", \"Idaho\", \"Washington\", \n",
    "                \"California\"]\n"
   ]
  },
  {
   "cell_type": "code",
   "execution_count": null,
   "metadata": {},
   "outputs": [],
   "source": [
    "## your code here\n"
   ]
  },
  {
   "cell_type": "markdown",
   "metadata": {},
   "source": [
    "# 3. Explore variation in math score disparities and trends (18 points)"
   ]
  },
  {
   "cell_type": "markdown",
   "metadata": {},
   "source": [
    "## 3.0 Read in the `acs_wmath.pkl` file (csv is backup) (0 points)"
   ]
  },
  {
   "cell_type": "code",
   "execution_count": null,
   "metadata": {},
   "outputs": [],
   "source": [
    "## your code here"
   ]
  },
  {
   "cell_type": "markdown",
   "metadata": {},
   "source": [
    "## 3.1 Create a visualization where one axis is the state; the other axis is the male 2013 math scores - the female 2013 math scores (gender disparity) (2 points)\n",
    "\n",
    "\n",
    "You have free rein over additional details but make sure it is informative over what direction of disparity positive versus negative values mean\n"
   ]
  },
  {
   "cell_type": "code",
   "execution_count": null,
   "metadata": {},
   "outputs": [],
   "source": [
    "## your code here"
   ]
  },
  {
   "cell_type": "markdown",
   "metadata": {},
   "source": [
    "## 3.2 Examine gender disparity in relation to household income (6 points)\n",
    "\n",
    "**A.** Construct an indicator variable for the state having better performance of males in 2013 than females\n",
    "\n",
    "**B.** First plot a scatterplot (or seaborn regplot) of estimated median household income from the acs data (we provide varname below) vs `math_male_2013`. Then do a second smoothed scatterplot for median household income vs `math_female_2013`.\n",
    "\n",
    "**C.** \n",
    "Then use the `np.corrcoef` command (three separate times) to examine the bivariate correlation of\n",
    "- male performance\n",
    "- female performance\n",
    "- the indicator variable from **A** \n",
    "\n",
    "with median household income (`acspredict_median_household_income_in_the_past_12_months__in_2018_inflation-adjusted_dollars_estimatemedian household income in the past 12 months in 2018 inflationadjusted dollars`)\n",
    "\n",
    "Documentation: https://numpy.org/doc/stable/reference/generated/numpy.corrcoef.html\n",
    "\n",
    "**D.** Interpret the correlations - in states with higher median household income (MHI), do \n",
    "   - boys tend to perform better than boys in states with lower MHI?\n",
    "   - girls tend to perform better than girls in states with lower MHI?\n",
    "   - boys tend to outperform girls more than they do in states with lower MHI?"
   ]
  },
  {
   "cell_type": "code",
   "execution_count": null,
   "metadata": {},
   "outputs": [],
   "source": [
    "# your code here"
   ]
  },
  {
   "cell_type": "markdown",
   "metadata": {},
   "source": [
    "## 3.3 Predicting disparities (10 points)\n",
    "\n",
    "**A.** Read in the raw `acs_wmath` data again (this loses the variables you created above)\n",
    "\n",
    "**B.** Construct a binary indicator variable for male score > female score  for each year - for full credit, do so without repeating the difference code for each of the four years: name these according to following convention: `outcome_male_higher_female_year` where year is 2013, 2015, 2017, or 2019 (e.g., 2013: `outcome_male_higher_female_2013`). After this, remove the raw math scores as columns in the data (so filter out any column with the word math)\n",
    "\n",
    "**C.** Melt the data (`acs_wmath`) to long where instead of wide years, years are repeated within state; the ACS vars will also be repeated since we only pulled one year. In other words, reshape the data from \"wide format\", where each state is a row and we have separate columns for each year, to \"long format\", where states are repeated four times: once for each year in the data (2013, 2015, 2017, 2019). With 50 states, your final shape should be (200,84).\n",
    "- See: https://pandas.pydata.org/docs/reference/api/pandas.melt.html\n",
    "\n",
    "**D.** Split into train-test split at state level (so all years in same state -> either all in train or all test). Randomize 35 states to train; 15 states in test. \n",
    "\n",
    "**E.** Normalize the features to mean 0, variance 1 and estimate a decision tree with a max depth of 5. Your covariates should have the term 'acspredict' in it.\n",
    "\n",
    "- **Hint:** The ML literature recommends using the training set scaler to transform the test set, rather than using a unique scaler to initialize each one. The reasons are discussed here: https://stats.stackexchange.com/questions/495357/why-do-we-normalize-test-data-on-the-parameters-of-the-training-data\n",
    "\n",
    "**F.** Interpret the feature importances\n",
    "\n",
    "**G.** Evaluate the precision and recall of that model in the test set states without using the `score`, `precision`, or `recall` functions in sklearn. Briefly interpret: compared to our class example (a high-dimensional feature matrix of yelp reviews with ~15000 observations), why do you think our models perform worse for this set of data/predictors?\n",
    "\n",
    "**Additional resources:** \n",
    "\n",
    "- Feature normalization: https://scikit-learn.org/stable/modules/preprocessing.html\n",
    "\n",
    "- Definition of precision and recall: https://en.wikipedia.org/wiki/Precision_and_recall"
   ]
  },
  {
   "cell_type": "code",
   "execution_count": null,
   "metadata": {},
   "outputs": [],
   "source": [
    "# A. your code here to load data"
   ]
  },
  {
   "cell_type": "code",
   "execution_count": null,
   "metadata": {},
   "outputs": [],
   "source": [
    "# B. your code here to construct binary indicators for male higher"
   ]
  },
  {
   "cell_type": "code",
   "execution_count": null,
   "metadata": {},
   "outputs": [],
   "source": [
    "# C. your code here to melt data"
   ]
  },
  {
   "cell_type": "code",
   "execution_count": null,
   "metadata": {},
   "outputs": [],
   "source": [
    "# D. your code here for train/test split"
   ]
  },
  {
   "cell_type": "code",
   "execution_count": null,
   "metadata": {},
   "outputs": [],
   "source": [
    "# E. your code here to normalize features and fit model"
   ]
  },
  {
   "cell_type": "code",
   "execution_count": null,
   "metadata": {},
   "outputs": [],
   "source": [
    "# F. your code here to interpret feature importances"
   ]
  },
  {
   "cell_type": "code",
   "execution_count": null,
   "metadata": {},
   "outputs": [],
   "source": [
    "# G. your code here to evaluate model"
   ]
  }
 ],
 "metadata": {
  "kernelspec": {
   "display_name": "Python 3 (ipykernel)",
   "language": "python",
   "name": "python3"
  },
  "language_info": {
   "codemirror_mode": {
    "name": "ipython",
    "version": 3
   },
   "file_extension": ".py",
   "mimetype": "text/x-python",
   "name": "python",
   "nbconvert_exporter": "python",
   "pygments_lexer": "ipython3",
   "version": "3.11.4"
  }
 },
 "nbformat": 4,
 "nbformat_minor": 4
}
